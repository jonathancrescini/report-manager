{
 "cells": [
  {
   "cell_type": "markdown",
   "id": "4713f33e",
   "metadata": {},
   "source": [
    "# Analysis Template"
   ]
  },
  {
   "cell_type": "code",
   "execution_count": 1,
   "id": "4c965005",
   "metadata": {},
   "outputs": [],
   "source": [
    "# general list of imports\n",
    "import os"
   ]
  },
  {
   "cell_type": "code",
   "execution_count": null,
   "id": "dd2f77c8",
   "metadata": {},
   "outputs": [],
   "source": [
    "# directory for exporting visuals\n",
    "BASE_DIR = Path(__file__).resolve().parent\n",
    "VISUALS_DIR = os.path.join(BASE_DIR, 'visuals')"
   ]
  }
 ],
 "metadata": {
  "kernelspec": {
   "display_name": "Python 3 (ipykernel)",
   "language": "python",
   "name": "python3"
  },
  "language_info": {
   "codemirror_mode": {
    "name": "ipython",
    "version": 3
   },
   "file_extension": ".py",
   "mimetype": "text/x-python",
   "name": "python",
   "nbconvert_exporter": "python",
   "pygments_lexer": "ipython3",
   "version": "3.7.9"
  }
 },
 "nbformat": 4,
 "nbformat_minor": 5
}
